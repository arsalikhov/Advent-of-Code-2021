{
 "cells": [
  {
   "cell_type": "markdown",
   "metadata": {},
   "source": [
    "## Day 1"
   ]
  },
  {
   "cell_type": "markdown",
   "metadata": {},
   "source": [
    "Imports and Data Reading"
   ]
  },
  {
   "cell_type": "code",
   "execution_count": null,
   "metadata": {},
   "outputs": [],
   "source": [
    "import numpy as np\n",
    "import math"
   ]
  },
  {
   "cell_type": "code",
   "execution_count": null,
   "metadata": {},
   "outputs": [],
   "source": [
    "with open('AoC_D1_input.txt') as f:\n",
    "    array = []\n",
    "    for line in f: # read rest of lines\n",
    "        array.append([int(line)])\n",
    "\n",
    "data = np.array(array).flatten()\n",
    "\n",
    "data"
   ]
  },
  {
   "cell_type": "markdown",
   "metadata": {},
   "source": [
    "Part 1"
   ]
  },
  {
   "cell_type": "code",
   "execution_count": null,
   "metadata": {},
   "outputs": [],
   "source": [
    "increased = []\n",
    "previous = None\n",
    "\n",
    "for index, obj in enumerate(data):\n",
    "  if index > 0:\n",
    "    previous = data[index - 1]\n",
    "    if previous < obj:\n",
    "      increased.append(obj)\n",
    "\n",
    "print(len(increased))\n"
   ]
  },
  {
   "cell_type": "markdown",
   "metadata": {},
   "source": [
    "Part 2"
   ]
  },
  {
   "cell_type": "code",
   "execution_count": null,
   "metadata": {},
   "outputs": [],
   "source": [
    "sums = []\n",
    "increased = []\n",
    "previous = None\n",
    "i1 = None\n",
    "i2 = None\n",
    "i3 = None\n",
    "\n",
    "l = len(data)\n",
    "for index, obj in enumerate(data):\n",
    "  if index < (l - 2):\n",
    "    i1 = data[index]\n",
    "    i2 = data[index + 1]\n",
    "    i3 = data[index + 2]\n",
    "    x = i1 + i2 + i3\n",
    "\n",
    "    sums.append(x)\n",
    "\n",
    "\n",
    "for index, x in enumerate(sums):\n",
    "  if index > 0:\n",
    "    previous = sums[index - 1]\n",
    "    print(previous, x)\n",
    "    if previous < x:\n",
    "      increased.append(x)\n",
    "\n",
    "len(increased)"
   ]
  },
  {
   "cell_type": "markdown",
   "metadata": {},
   "source": [
    "## Day 2"
   ]
  },
  {
   "cell_type": "code",
   "execution_count": null,
   "metadata": {},
   "outputs": [],
   "source": []
  }
 ],
 "metadata": {
  "interpreter": {
   "hash": "aee8b7b246df8f9039afb4144a1f6fd8d2ca17a180786b69acc140d282b71a49"
  },
  "kernelspec": {
   "display_name": "Python 3.9.5 64-bit",
   "name": "python3"
  },
  "language_info": {
   "name": "python",
   "version": ""
  },
  "orig_nbformat": 4
 },
 "nbformat": 4,
 "nbformat_minor": 2
}